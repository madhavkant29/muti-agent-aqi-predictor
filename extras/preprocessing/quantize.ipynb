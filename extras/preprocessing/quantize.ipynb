{
 "cells": [
  {
   "cell_type": "code",
   "execution_count": null,
   "id": "24acf1fb",
   "metadata": {
    "vscode": {
     "languageId": "plaintext"
    }
   },
   "outputs": [],
   "source": [
    "from transformers import AutoModelForCausalLM, AutoTokenizer\n",
    "from gptq import GPTQ  \n",
    "import torch\n",
    "\n",
    "\n",
    "model_name = \"mistralai/Mistral-7B-Instruct-v0.2\"  \n",
    "device = \"cuda\"\n",
    "\n",
    "print(\"Loading model...\")\n",
    "model = AutoModelForCausalLM.from_pretrained(model_name, torch_dtype=torch.float16)\n",
    "tokenizer = AutoTokenizer.from_pretrained(model_name)\n",
    "\n",
    "model.to(\"cuda\")  \n",
    "\n",
    "\n",
    "gptq = GPTQ(model, bits=4, group_size=128, desc_act=False)\n",
    "\n",
    "# -------- Step 3: Apply quantization --------\n",
    "print(\"Quantizing model...\")\n",
    "gptq.quantize()\n",
    "\n",
    "# -------- Step 4: Save the quantized model --------\n",
    "quant_model_path = \"./mistral-7b-instruct-4bit\"\n",
    "gptq.save_quantized_model(quant_model_path)\n",
    "tokenizer.save_pretrained(quant_model_path)\n",
    "\n",
    "print(f\"Quantized model saved to {quant_model_path}\")"
   ]
  }
 ],
 "metadata": {
  "language_info": {
   "name": "python"
  }
 },
 "nbformat": 4,
 "nbformat_minor": 5
}
