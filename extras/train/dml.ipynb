{
  "cells": [
    {
      "cell_type": "code",
      "execution_count": null,
      "metadata": {
        "colab": {
          "base_uri": "https://localhost:8080/"
        },
        "id": "Nn2IqWIvnrXl",
        "outputId": "05351fdd-a254-4ac6-ddfb-ffa9078a30e6"
      },
      "outputs": [
        {
          "ename": "",
          "evalue": "",
          "output_type": "error",
          "traceback": [
            "\u001b[1;31mRunning cells with 'venv (Python 3.12.3)' requires the ipykernel package.\n",
            "\u001b[1;31mInstall 'ipykernel' into the Python environment. \n",
            "\u001b[1;31mCommand: '\"c:/Users/madha/.vscode/python/aqi project/venv/Scripts/python.exe\" -m pip install ipykernel -U --force-reinstall'"
          ]
        }
      ],
      "source": [
        "!pip install econml"
      ]
    },
    {
      "cell_type": "code",
      "execution_count": 6,
      "metadata": {
        "colab": {
          "base_uri": "https://localhost:8080/"
        },
        "id": "rRNxCX35nrZ_",
        "outputId": "fd587947-84a9-4b5d-b64b-addfce187086"
      },
      "outputs": [
        {
          "name": "stderr",
          "output_type": "stream",
          "text": [
            "/usr/local/lib/python3.12/dist-packages/econml/dml/dml.py:192: UserWarning: The final model has a nonzero intercept for at least one outcome; it will be subtracted, but consider fitting a model without an intercept if possible.\n",
            "  warn(\"The final model has a nonzero intercept for at least one outcome; \"\n"
          ]
        },
        {
          "name": "stdout",
          "output_type": "stream",
          "text": [
            "Predicted treatment effects shape: (3756, 8, 7)\n",
            "First 3 treatment effect samples:\n",
            "[[[-2.17821472e+01 -7.66181818e+00  0.00000000e+00  0.00000000e+00\n",
            "    0.00000000e+00  0.00000000e+00  0.00000000e+00]\n",
            "  [-3.22944450e-01 -7.57866682e-02  0.00000000e+00  0.00000000e+00\n",
            "    0.00000000e+00  0.00000000e+00  0.00000000e+00]\n",
            "  [-1.47513670e-01 -1.43629846e-01  0.00000000e+00  0.00000000e+00\n",
            "    0.00000000e+00  0.00000000e+00  0.00000000e+00]\n",
            "  [ 1.29670840e-01 -6.19866393e-02  0.00000000e+00  0.00000000e+00\n",
            "    0.00000000e+00  0.00000000e+00  0.00000000e+00]\n",
            "  [-9.43838405e-02 -3.95270514e-02  0.00000000e+00  0.00000000e+00\n",
            "    0.00000000e+00  0.00000000e+00  0.00000000e+00]\n",
            "  [-1.95768615e+00 -3.81499117e-01  0.00000000e+00  0.00000000e+00\n",
            "    0.00000000e+00  0.00000000e+00  0.00000000e+00]\n",
            "  [-2.31456598e+00 -6.40759478e-01  0.00000000e+00  0.00000000e+00\n",
            "    0.00000000e+00  0.00000000e+00  0.00000000e+00]\n",
            "  [-2.59195449e-01 -1.22605102e-01  0.00000000e+00  0.00000000e+00\n",
            "    0.00000000e+00  0.00000000e+00  0.00000000e+00]]\n",
            "\n",
            " [[-1.78029835e+01 -1.43265336e+01  0.00000000e+00 -9.20311867e+00\n",
            "    0.00000000e+00 -2.35560553e+00 -2.04718337e+00]\n",
            "  [-3.75245022e-01 -1.39672916e-01  0.00000000e+00 -1.44840180e-01\n",
            "    0.00000000e+00 -3.95230744e-02 -3.90451467e-02]\n",
            "  [ 1.37405694e-02 -2.61044202e-01  0.00000000e+00 -7.53756291e-02\n",
            "    0.00000000e+00 -1.59676717e-02 -2.07724366e-02]\n",
            "  [ 3.60151647e-01 -1.06230609e-01  0.00000000e+00 -2.84532830e-02\n",
            "    0.00000000e+00  2.88002415e-02  3.67700264e-02]\n",
            "  [-6.46726563e-02 -8.37908364e-02  0.00000000e+00 -4.01856053e-02\n",
            "    0.00000000e+00 -2.40987478e-02 -2.69866063e-02]\n",
            "  [-2.22787043e+00 -7.22801149e-01  0.00000000e+00 -5.99225991e-01\n",
            "    0.00000000e+00 -2.15810001e-01 -1.53612312e-01]\n",
            "  [-2.04542758e+00 -1.21139423e+00  0.00000000e+00 -8.02933904e-01\n",
            "    0.00000000e+00 -2.85000720e-01 -2.20412629e-01]\n",
            "  [-5.45505694e-02 -2.29653256e-01  0.00000000e+00 -7.24944619e-02\n",
            "    0.00000000e+00 -2.02123681e-02 -2.74448202e-02]]\n",
            "\n",
            " [[-1.78029835e+01 -1.66396740e+01  0.00000000e+00 -4.30406601e+00\n",
            "    0.00000000e+00 -2.35560553e+00 -2.04718337e+00]\n",
            "  [-3.75245022e-01 -1.65875047e-01  0.00000000e+00 -6.56333105e-02\n",
            "    0.00000000e+00 -3.95230744e-02 -3.90451467e-02]\n",
            "  [ 1.37405694e-02 -3.05737863e-01  0.00000000e+00 -3.98936219e-02\n",
            "    0.00000000e+00 -1.59676717e-02 -2.07724366e-02]\n",
            "  [ 3.60151647e-01 -1.17978840e-01  0.00000000e+00 -9.22320131e-03\n",
            "    0.00000000e+00  2.88002415e-02  3.67700264e-02]\n",
            "  [-6.46726563e-02 -9.53821365e-02  0.00000000e+00 -1.42583973e-02\n",
            "    0.00000000e+00 -2.40987478e-02 -2.69866063e-02]\n",
            "  [-2.22787043e+00 -8.43269899e-01  0.00000000e+00 -2.58584649e-01\n",
            "    0.00000000e+00 -2.15810001e-01 -1.53612312e-01]\n",
            "  [-2.04542758e+00 -1.39278206e+00  0.00000000e+00 -3.66586802e-01\n",
            "    0.00000000e+00 -2.85000720e-01 -2.20412629e-01]\n",
            "  [-5.45505694e-02 -2.68018470e-01  0.00000000e+00 -3.75835161e-02\n",
            "    0.00000000e+00 -2.02123681e-02 -2.74448202e-02]]]\n",
            "\n",
            "Effect of temperature on pollutants (first 3 samples):\n",
            "[[-21.78214717  -7.66181818   0.           0.           0.\n",
            "    0.           0.        ]\n",
            " [-17.80298348 -14.32653361   0.          -9.20311867   0.\n",
            "   -2.35560553  -2.04718337]\n",
            " [-17.80298348 -16.63967397   0.          -4.30406601   0.\n",
            "   -2.35560553  -2.04718337]]\n",
            "\n",
            "RMSE for each pollutant:\n",
            "co: 2199.068\n",
            "no: 48.489\n",
            "no2: 39.287\n",
            "o3: 78.525\n",
            "so2: 42.255\n",
            "pm2_5: 165.750\n",
            "pm10: 200.570\n",
            "nh3: 22.810\n"
          ]
        }
      ],
      "source": [
        "import pandas as pd\n",
        "import numpy as np\n",
        "from sklearn.model_selection import train_test_split\n",
        "from sklearn.ensemble import RandomForestRegressor\n",
        "from sklearn.metrics import r2_score, mean_squared_error\n",
        "from econml.dml import DML\n",
        "from math import sqrt\n",
        "\n",
        "# --- Step 1: Load dataset ---\n",
        "dataset_path = \"/content/sample_data/main.csv\"   # Change if needed\n",
        "df = pd.read_csv(dataset_path)\n",
        "\n",
        "# --- Step 2: Define features ---\n",
        "weather_features = [\n",
        "    \"temperature_2m (°C)\",\n",
        "    \"relative_humidity_2m (%)\",\n",
        "    \"rain (mm)\",\n",
        "    \"wind_speed_100m (km/h)\",\n",
        "    \"wind_direction_100m (°)\",\n",
        "    \"pressure_msl (hPa)\",\n",
        "    \"surface_pressure (hPa)\"\n",
        "]\n",
        "\n",
        "pollutant_features = [\"co\", \"no\", \"no2\", \"o3\", \"so2\", \"pm2_5\", \"pm10\", \"nh3\"]\n",
        "\n",
        "T = df[weather_features].values        # Treatments (inputs)\n",
        "Y = df[pollutant_features].values      # Outcomes (outputs)\n",
        "\n",
        "# --- Step 3: Train-test split (80/20) ---\n",
        "X_train, X_test, T_train, T_test, Y_train, Y_test = train_test_split(\n",
        "    df[weather_features], T, Y, test_size=0.2, random_state=42\n",
        ")\n",
        "\n",
        "# --- Step 4: Define models ---\n",
        "model_y = RandomForestRegressor(n_estimators=200, max_depth=5, random_state=42)\n",
        "model_t = RandomForestRegressor(n_estimators=200, max_depth=5, random_state=42)\n",
        "model_final = RandomForestRegressor(n_estimators=200, max_depth=5, random_state=42)\n",
        "\n",
        "# --- Step 5: Initialize and fit DML ---\n",
        "dml = DML(\n",
        "    model_y=model_y,\n",
        "    model_t=model_t,\n",
        "    model_final=model_final,\n",
        "    discrete_treatment=False,\n",
        "    random_state=42\n",
        ")\n",
        "\n",
        "dml.fit(Y_train, T_train, X=X_train)\n",
        "\n",
        "# --- Step 6: Estimate treatment effects ---\n",
        "te_pred = dml.const_marginal_effect(X_test)  # shape: (n_samples, n_treatments, n_outcomes)\n",
        "print(\"Predicted treatment effects shape:\", te_pred.shape)\n",
        "print(\"First 3 treatment effect samples:\")\n",
        "print(te_pred[:3])\n",
        "\n",
        "# Example: Effect of temperature (1st treatment) on pollutants\n",
        "te_temp = te_pred[:, 0, :]  # (n_samples, n_outcomes)\n",
        "print(\"\\nEffect of temperature on pollutants (first 3 samples):\")\n",
        "print(te_temp[:3])\n",
        "\n",
        "# --- Step 7: Train a standalone predictor for evaluation ---\n",
        "# (DML doesn’t expose a fitted outcome predictor, so we fit one separately)\n",
        "rf_outcome = RandomForestRegressor(n_estimators=200, max_depth=5, random_state=42)\n",
        "rf_outcome.fit(X_train, Y_train)\n",
        "Y_pred = rf_outcome.predict(X_test)\n",
        "\n",
        "\n",
        "\n",
        "print(\"\\nRMSE for each pollutant:\")\n",
        "for i, pollutant in enumerate(pollutant_features):\n",
        "    mse = mean_squared_error(Y_test[:, i], Y_pred[:, i])  # no squared arg\n",
        "    rmse = sqrt(mse)\n",
        "    print(f\"{pollutant}: {rmse:.3f}\")\n",
        "\n"
      ]
    },
    {
      "cell_type": "code",
      "execution_count": null,
      "metadata": {
        "id": "e5tiOXkYnrfr"
      },
      "outputs": [],
      "source": []
    },
    {
      "cell_type": "code",
      "execution_count": null,
      "metadata": {
        "id": "ZrmVjCHSnriM"
      },
      "outputs": [],
      "source": []
    },
    {
      "cell_type": "code",
      "execution_count": null,
      "metadata": {
        "id": "oxBOWimenrk7"
      },
      "outputs": [],
      "source": []
    },
    {
      "cell_type": "code",
      "execution_count": null,
      "metadata": {
        "id": "M4HVML_Enrnj"
      },
      "outputs": [],
      "source": []
    }
  ],
  "metadata": {
    "accelerator": "GPU",
    "colab": {
      "gpuType": "T4",
      "name": "Welcome To Colab",
      "provenance": []
    },
    "kernelspec": {
      "display_name": "venv",
      "language": "python",
      "name": "python3"
    },
    "language_info": {
      "name": "python",
      "version": "3.12.3"
    }
  },
  "nbformat": 4,
  "nbformat_minor": 0
}
